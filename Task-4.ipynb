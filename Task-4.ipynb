{
 "cells": [
  {
   "cell_type": "markdown",
   "id": "c0305404",
   "metadata": {},
   "source": [
    "Author  : Shraddha Anbhule\n",
    "\n",
    "Mail    : sanbhule028@gmail.com\n",
    "\n",
    "Project : Prediction of the Next Word\n",
    "\n",
    "Dataset : https://www.kaggle.com/datasets/next-word-prediction"
   ]
  },
  {
   "cell_type": "markdown",
   "id": "ea54ec3a",
   "metadata": {},
   "source": [
    "# Importing the Dependencies"
   ]
  },
  {
   "cell_type": "code",
   "execution_count": 2,
   "id": "ccfb4fb5",
   "metadata": {},
   "outputs": [],
   "source": [
    "import numpy as np\n",
    "import matplotlib.pyplot as plt\n",
    "import pickle\n",
    "import tensorflow as tf\n",
    "from tensorflow import keras\n",
    "from tensorflow.keras.preprocessing.text import Tokenizer\n",
    "from tensorflow.keras.layers import Embedding, LSTM, Dense\n",
    "from tensorflow.keras.models import Sequential, load_model\n",
    "from tensorflow.keras.callbacks import ModelCheckpoint\n",
    "from tensorflow.keras.utils import to_categorical\n",
    "from tensorflow.keras.optimizers import Adam\n",
    "from keras.utils.vis_utils import plot_model"
   ]
  },
  {
   "cell_type": "code",
   "execution_count": 3,
   "id": "050fa658",
   "metadata": {},
   "outputs": [],
   "source": [
    "file = open(r\"D:\\Datasets\\Next-Word-Data.txt\",\"r\",encoding = \"utf8\")"
   ]
  },
  {
   "cell_type": "code",
   "execution_count": 4,
   "id": "da20e3e2",
   "metadata": {},
   "outputs": [
    {
     "data": {
      "text/plain": [
       "\"Project Gutenberg's The Adventures of Sherlock Holmes, by Arthur Conan Doyle This eBook is for the use of anyone anywhere at no cost and with almost no restrictions whatsoever. You may copy it, give i\""
      ]
     },
     "execution_count": 4,
     "metadata": {},
     "output_type": "execute_result"
    }
   ],
   "source": [
    "lines = []\n",
    "for i in file:\n",
    "    lines.append(i)\n",
    "data = \"\"\n",
    "for i in lines:\n",
    "    data = ' '. join(lines)\n",
    "data = data.replace('\\n', '').replace('\\r', '').replace('\\ufeff', '').replace('“', '').replace(\"”\", '')\n",
    "data = data.split()\n",
    "data = ' '.join(data)\n",
    "data[:200]"
   ]
  },
  {
   "cell_type": "code",
   "execution_count": 5,
   "id": "0667f4f9",
   "metadata": {},
   "outputs": [
    {
     "name": "stdout",
     "output_type": "stream",
     "text": [
      "corpus length: 573660\n"
     ]
    }
   ],
   "source": [
    "print('corpus length:', len(data))"
   ]
  },
  {
   "cell_type": "markdown",
   "id": "76285c2a",
   "metadata": {},
   "source": [
    "# Pre-processing"
   ]
  },
  {
   "cell_type": "code",
   "execution_count": 6,
   "id": "cdd4c9ee",
   "metadata": {},
   "outputs": [],
   "source": [
    "def create_model(vocabulary_size, seq_len):\n",
    "    model = Sequential()\n",
    "    model.add(Embedding(vocabulary_size, 25, input_length=seq_len))\n",
    "    model.add(LSTM(150, return_sequences=True))\n",
    "    model.add(LSTM(150))\n",
    "    model.add(Dense(150, activation='relu'))\n",
    "    model.add(Dense(vocabulary_size, activation='softmax'))\n",
    "    model.compile(loss='categorical_crossentropy', optimizer='adam', metrics=['accuracy'])\n",
    "    model.summary()\n",
    "    return model"
   ]
  },
  {
   "cell_type": "code",
   "execution_count": 7,
   "id": "19f1d023",
   "metadata": {},
   "outputs": [
    {
     "data": {
      "text/plain": [
       "[142, 4680, 1, 986, 5, 125, 33, 46, 556, 2164]"
      ]
     },
     "execution_count": 7,
     "metadata": {},
     "output_type": "execute_result"
    }
   ],
   "source": [
    "tokenizer =Tokenizer()\n",
    "tokenizer.fit_on_texts([data])\n",
    "pickle.dump(tokenizer, open('tokenizer1.pkl', 'wb'))\n",
    "sequence_data = tokenizer.texts_to_sequences([data])[0]\n",
    "sequence_data[:10]"
   ]
  },
  {
   "cell_type": "code",
   "execution_count": 8,
   "id": "bf3eb3e6",
   "metadata": {},
   "outputs": [
    {
     "data": {
      "text/plain": [
       "108958"
      ]
     },
     "execution_count": 8,
     "metadata": {},
     "output_type": "execute_result"
    }
   ],
   "source": [
    "len(sequence_data)"
   ]
  },
  {
   "cell_type": "code",
   "execution_count": 9,
   "id": "63327553",
   "metadata": {},
   "outputs": [
    {
     "data": {
      "text/plain": [
       "8624"
      ]
     },
     "execution_count": 9,
     "metadata": {},
     "output_type": "execute_result"
    }
   ],
   "source": [
    "vocab_size = len(tokenizer.word_index) + 1\n",
    "vocab_size"
   ]
  },
  {
   "cell_type": "code",
   "execution_count": 10,
   "id": "2c405411",
   "metadata": {},
   "outputs": [
    {
     "name": "stdout",
     "output_type": "stream",
     "text": [
      "The length of sequences : 108955\n"
     ]
    },
    {
     "data": {
      "text/plain": [
       "array([[ 142, 4680,    1,  986],\n",
       "       [4680,    1,  986,    5],\n",
       "       [   1,  986,    5,  125],\n",
       "       [ 986,    5,  125,   33],\n",
       "       [   5,  125,   33,   46],\n",
       "       [ 125,   33,   46,  556],\n",
       "       [  33,   46,  556, 2164],\n",
       "       [  46,  556, 2164, 2165],\n",
       "       [ 556, 2164, 2165,   27],\n",
       "       [2164, 2165,   27,  987]])"
      ]
     },
     "execution_count": 10,
     "metadata": {},
     "output_type": "execute_result"
    }
   ],
   "source": [
    "sequences = []\n",
    "for i in range(3, len(sequence_data)):\n",
    "    words = sequence_data[i-3:i+1]\n",
    "    sequences.append(words)    \n",
    "print(\"The length of sequences :\", len(sequences))\n",
    "sequences = np.array(sequences)\n",
    "sequences[:10]"
   ]
  },
  {
   "cell_type": "markdown",
   "id": "e4eda3ae",
   "metadata": {},
   "source": [
    "# Traing & Testing"
   ]
  },
  {
   "cell_type": "code",
   "execution_count": 12,
   "id": "d3918679",
   "metadata": {},
   "outputs": [],
   "source": [
    "X = []\n",
    "y = []\n",
    "for i in sequences:\n",
    "    X.append(i[0:3])\n",
    "    y.append(i[3])\n",
    "X = np.array(X)\n",
    "y = np.array(y)"
   ]
  },
  {
   "cell_type": "code",
   "execution_count": 13,
   "id": "ab62b857",
   "metadata": {},
   "outputs": [
    {
     "name": "stdout",
     "output_type": "stream",
     "text": [
      "Data :\n",
      " [[ 142 4680    1]\n",
      " [4680    1  986]\n",
      " [   1  986    5]\n",
      " [ 986    5  125]\n",
      " [   5  125   33]\n",
      " [ 125   33   46]\n",
      " [  33   46  556]\n",
      " [  46  556 2164]\n",
      " [ 556 2164 2165]\n",
      " [2164 2165   27]]\n",
      "\n",
      "Response :\n",
      " [ 986    5  125   33   46  556 2164 2165   27  987]\n"
     ]
    }
   ],
   "source": [
    "print(\"Data :\\n\", X[:10])\n",
    "print()\n",
    "print(\"Response :\\n\", y[:10])"
   ]
  },
  {
   "cell_type": "code",
   "execution_count": 14,
   "id": "c185586b",
   "metadata": {},
   "outputs": [
    {
     "data": {
      "text/plain": [
       "array([[0., 0., 0., ..., 0., 0., 0.],\n",
       "       [0., 0., 0., ..., 0., 0., 0.],\n",
       "       [0., 0., 0., ..., 0., 0., 0.],\n",
       "       ...,\n",
       "       [0., 0., 0., ..., 0., 0., 0.],\n",
       "       [0., 0., 0., ..., 0., 0., 0.],\n",
       "       [0., 0., 0., ..., 0., 0., 0.]], dtype=float32)"
      ]
     },
     "execution_count": 14,
     "metadata": {},
     "output_type": "execute_result"
    }
   ],
   "source": [
    "y = to_categorical(y, num_classes=vocab_size)\n",
    "y[:10]"
   ]
  },
  {
   "cell_type": "markdown",
   "id": "ad4eec4f",
   "metadata": {},
   "source": [
    "# LSTM (Long Short-Trem Memory)"
   ]
  },
  {
   "cell_type": "code",
   "execution_count": 16,
   "id": "ba9983c9",
   "metadata": {},
   "outputs": [],
   "source": [
    "model = Sequential()\n",
    "model.add(Embedding(vocab_size, 10, input_length=3))\n",
    "model.add(LSTM(150, return_sequences=True))\n",
    "model.add(LSTM(150))\n",
    "model.add(Dense(150, activation=\"relu\"))\n",
    "model.add(Dense(vocab_size, activation=\"softmax\"))"
   ]
  },
  {
   "cell_type": "code",
   "execution_count": 17,
   "id": "d8a0ec56",
   "metadata": {},
   "outputs": [
    {
     "name": "stdout",
     "output_type": "stream",
     "text": [
      "Model: \"sequential\"\n",
      "_________________________________________________________________\n",
      " Layer (type)                Output Shape              Param #   \n",
      "=================================================================\n",
      " embedding (Embedding)       (None, 3, 10)             86240     \n",
      "                                                                 \n",
      " lstm (LSTM)                 (None, 3, 150)            96600     \n",
      "                                                                 \n",
      " lstm_1 (LSTM)               (None, 150)               180600    \n",
      "                                                                 \n",
      " dense (Dense)               (None, 150)               22650     \n",
      "                                                                 \n",
      " dense_1 (Dense)             (None, 8624)              1302224   \n",
      "                                                                 \n",
      "=================================================================\n",
      "Total params: 1,688,314\n",
      "Trainable params: 1,688,314\n",
      "Non-trainable params: 0\n",
      "_________________________________________________________________\n"
     ]
    }
   ],
   "source": [
    "model.summary()\n"
   ]
  },
  {
   "cell_type": "markdown",
   "id": "fb70ed9c",
   "metadata": {},
   "source": [
    "# Fit Modeling"
   ]
  },
  {
   "cell_type": "code",
   "execution_count": 18,
   "id": "b4211988",
   "metadata": {},
   "outputs": [
    {
     "name": "stdout",
     "output_type": "stream",
     "text": [
      "Epoch 1/15\n",
      "171/171 [==============================] - ETA: 0s - loss: 6.6958\n",
      "Epoch 1: loss improved from inf to 6.69576, saving model to nextword1.h5\n",
      "171/171 [==============================] - 54s 235ms/step - loss: 6.6958 - val_loss: 6.5667\n",
      "Epoch 2/15\n",
      "171/171 [==============================] - ETA: 0s - loss: 6.0711\n",
      "Epoch 2: loss improved from 6.69576 to 6.07106, saving model to nextword1.h5\n",
      "171/171 [==============================] - 37s 215ms/step - loss: 6.0711 - val_loss: 6.2591\n",
      "Epoch 3/15\n",
      "171/171 [==============================] - ETA: 0s - loss: 5.6182\n",
      "Epoch 3: loss improved from 6.07106 to 5.61823, saving model to nextword1.h5\n",
      "171/171 [==============================] - 37s 218ms/step - loss: 5.6182 - val_loss: 6.2010\n",
      "Epoch 4/15\n",
      "171/171 [==============================] - ETA: 0s - loss: 5.3150\n",
      "Epoch 4: loss improved from 5.61823 to 5.31501, saving model to nextword1.h5\n",
      "171/171 [==============================] - 35s 205ms/step - loss: 5.3150 - val_loss: 6.2249\n",
      "Epoch 5/15\n",
      "171/171 [==============================] - ETA: 0s - loss: 5.0903\n",
      "Epoch 5: loss improved from 5.31501 to 5.09034, saving model to nextword1.h5\n",
      "171/171 [==============================] - 35s 208ms/step - loss: 5.0903 - val_loss: 6.3464\n",
      "Epoch 6/15\n",
      "171/171 [==============================] - ETA: 0s - loss: 4.8901\n",
      "Epoch 6: loss improved from 5.09034 to 4.89014, saving model to nextword1.h5\n",
      "171/171 [==============================] - 36s 210ms/step - loss: 4.8901 - val_loss: 6.5059\n",
      "Epoch 7/15\n",
      "171/171 [==============================] - ETA: 0s - loss: 4.7026\n",
      "Epoch 7: loss improved from 4.89014 to 4.70262, saving model to nextword1.h5\n",
      "171/171 [==============================] - 31s 183ms/step - loss: 4.7026 - val_loss: 6.6825\n",
      "Epoch 8/15\n",
      "171/171 [==============================] - ETA: 0s - loss: 4.5134\n",
      "Epoch 8: loss improved from 4.70262 to 4.51344, saving model to nextword1.h5\n",
      "171/171 [==============================] - 30s 173ms/step - loss: 4.5134 - val_loss: 6.8886\n",
      "Epoch 9/15\n",
      "171/171 [==============================] - ETA: 0s - loss: 4.3176\n",
      "Epoch 9: loss improved from 4.51344 to 4.31761, saving model to nextword1.h5\n",
      "171/171 [==============================] - 30s 175ms/step - loss: 4.3176 - val_loss: 7.1008\n",
      "Epoch 10/15\n",
      "171/171 [==============================] - ETA: 0s - loss: 4.1174\n",
      "Epoch 10: loss improved from 4.31761 to 4.11740, saving model to nextword1.h5\n",
      "171/171 [==============================] - 31s 179ms/step - loss: 4.1174 - val_loss: 7.5909\n",
      "Epoch 11/15\n",
      "170/171 [============================>.] - ETA: 0s - loss: 3.9179\n",
      "Epoch 11: loss improved from 4.11740 to 3.91822, saving model to nextword1.h5\n",
      "171/171 [==============================] - 26s 153ms/step - loss: 3.9182 - val_loss: 7.7818\n",
      "Epoch 12/15\n",
      "170/171 [============================>.] - ETA: 0s - loss: 3.7295\n",
      "Epoch 12: loss improved from 3.91822 to 3.72959, saving model to nextword1.h5\n",
      "171/171 [==============================] - 26s 152ms/step - loss: 3.7296 - val_loss: 8.0888\n",
      "Epoch 13/15\n",
      "171/171 [==============================] - ETA: 0s - loss: 3.5416\n",
      "Epoch 13: loss improved from 3.72959 to 3.54163, saving model to nextword1.h5\n",
      "171/171 [==============================] - 28s 163ms/step - loss: 3.5416 - val_loss: 8.5390\n",
      "Epoch 14/15\n",
      "171/171 [==============================] - ETA: 0s - loss: 3.3549\n",
      "Epoch 14: loss improved from 3.54163 to 3.35492, saving model to nextword1.h5\n",
      "171/171 [==============================] - 28s 163ms/step - loss: 3.3549 - val_loss: 8.8512\n",
      "Epoch 15/15\n",
      "171/171 [==============================] - ETA: 0s - loss: 3.1905\n",
      "Epoch 15: loss improved from 3.35492 to 3.19053, saving model to nextword1.h5\n",
      "171/171 [==============================] - 27s 156ms/step - loss: 3.1905 - val_loss: 9.2678\n"
     ]
    }
   ],
   "source": [
    "checkpoint = ModelCheckpoint(\"nextword1.h5\", monitor='loss', verbose=1, save_best_only=True)\n",
    "model.compile(loss=\"categorical_crossentropy\", optimizer=Adam(learning_rate=0.01))\n",
    "lstm = model.fit(X, y, validation_split=.20, epochs=15, batch_size=512, shuffle=True, callbacks=[checkpoint]).history"
   ]
  },
  {
   "cell_type": "markdown",
   "id": "f86a8419",
   "metadata": {},
   "source": [
    "# Visualization"
   ]
  },
  {
   "cell_type": "code",
   "execution_count": 19,
   "id": "e74c846f",
   "metadata": {},
   "outputs": [
    {
     "data": {
      "text/plain": [
       "<matplotlib.legend.Legend at 0x1e7009500d0>"
      ]
     },
     "execution_count": 19,
     "metadata": {},
     "output_type": "execute_result"
    },
    {
     "data": {
      "image/png": "[encoded data removed]",
      "text/plain": [
       "<Figure size 432x288 with 1 Axes>"
      ]
     },
     "metadata": {
      "needs_background": "light"
     },
     "output_type": "display_data"
    }
   ],
   "source": [
    "plt.plot(lstm['loss'])\n",
    "plt.plot(lstm['val_loss'])\n",
    "plt.title('model loss')\n",
    "plt.ylabel('loss')\n",
    "plt.xlabel('epoch')\n",
    "plt.legend(['train', 'test'], loc='upper right')"
   ]
  },
  {
   "cell_type": "markdown",
   "id": "f12892b2",
   "metadata": {},
   "source": [
    "# Result"
   ]
  },
  {
   "cell_type": "code",
   "execution_count": 20,
   "id": "5eaef3eb",
   "metadata": {},
   "outputs": [],
   "source": [
    "model = load_model(\"nextword1.h5\")\n",
    "tokenizer = pickle.load(open(\"tokenizer1.pkl\", 'rb'))"
   ]
  },
  {
   "cell_type": "code",
   "execution_count": 21,
   "id": "ce9d9401",
   "metadata": {},
   "outputs": [],
   "source": [
    "def predict_next_words(model, tokenizer, text) :    \n",
    "    sequence = tokenizer.texts_to_sequences([text])\n",
    "    sequence = np.array(sequence)\n",
    "    preds = np.argmax(model.predict(sequence))\n",
    "    predicted_word = \"\"\n",
    "    for key, value in tokenizer.word_index.items() :\n",
    "        if value == preds :\n",
    "            predicted_word = key\n",
    "            break\n",
    "    return predicted_word"
   ]
  },
  {
   "cell_type": "code",
   "execution_count": 22,
   "id": "818eddf0",
   "metadata": {},
   "outputs": [
    {
     "name": "stdout",
     "output_type": "stream",
     "text": [
      "Input : The Adventures of\n",
      "1/1 [==============================] - 1s 1s/step\n",
      "Output :  The Adventures of the\n",
      "\n",
      "Input : by Arthur Conan\n",
      "1/1 [==============================] - 0s 24ms/step\n",
      "Output :  by Arthur Conan doyle\n",
      "\n",
      "Input : it is all\n",
      "1/1 [==============================] - 0s 17ms/step\n",
      "Output :  it is all the\n",
      "\n",
      "\n",
      "Execution completed...\n"
     ]
    }
   ],
   "source": [
    "l = [\"The Adventures of\", \"by Arthur Conan\", \"it is all\", \"0\"]\n",
    "for i in l :\n",
    "    text = i\n",
    "    if text == \"0\" :\n",
    "        print()\n",
    "        print(\"Execution completed...\")\n",
    "        break\n",
    "    else :\n",
    "        try :\n",
    "            text = text.split(\" \")\n",
    "            text = text[-3:]\n",
    "            print(\"Input :\", i)\n",
    "            print(\"Output : \", i, predict_next_words(model, tokenizer, text))\n",
    "            print()\n",
    "        except Exception as e :\n",
    "            print(\"Error occured : \", e)\n",
    "            continue"
   ]
  },
  {
   "cell_type": "code",
   "execution_count": null,
   "id": "85f05e03",
   "metadata": {},
   "outputs": [],
   "source": []
  }
 ],
 "metadata": {
  "kernelspec": {
   "display_name": "Python 3 (ipykernel)",
   "language": "python",
   "name": "python3"
  },
  "language_info": {
   "codemirror_mode": {
    "name": "ipython",
    "version": 3
   },
   "file_extension": ".py",
   "mimetype": "text/x-python",
   "name": "python",
   "nbconvert_exporter": "python",
   "pygments_lexer": "ipython3",
   "version": "3.9.12"
  }
 },
 "nbformat": 4,
 "nbformat_minor": 5
}
